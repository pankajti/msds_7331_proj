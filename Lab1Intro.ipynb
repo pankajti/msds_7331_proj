{
 "cells": [
  {
   "cell_type": "markdown",
   "metadata": {},
   "source": [
    "# Lab 1: Visualization and Data Preprocessing"
   ]
  },
  {
   "cell_type": "markdown",
   "metadata": {},
   "source": [
    "## Business Understanding "
   ]
  },
  {
   "cell_type": "markdown",
   "metadata": {},
   "source": [
    "We have selected the \"default of credit card clients Data Set\" from the UCI Machine Learning Repository. This data set contains records of 30,000 Taiwanese credit card clients between April 2005 and September 2005. 24 explanatory variables are given with these records describing factors such as monthly limit, sex, relationship status and amount owed. \n",
    "\n",
    "The purpose of this data is to use these explanatory variables to determine if the client would default on their payment for the following month, which is the response variable we will be looking at with this dataset.   \n",
    "\n",
    "\n",
    "To measure the outcomes from this dataset we would build an algorithm to predict how likely a customer is to default on their payment. This algorithm would use as many attributes as necessary from the given data set to most accurately predict this outcome. A credit card company would like to be able to predict this outcome for multiple reasons. One reason is to avoid customers who are not going to be able to pay on time. Another would be to be prepared with legal and other resources if clients do default. \n",
    "\n",
    "\n",
    "***How would you measure the effectiveness of a\n",
    "good prediction algorithm? Be specific"
   ]
  },
  {
   "cell_type": "markdown",
   "metadata": {},
   "source": [
    "## Data Understanding"
   ]
  },
  {
   "cell_type": "raw",
   "metadata": {},
   "source": [
    "The link http://inseaddataanalytics.github.io/INSEADAnalytics/CourseSessions/ClassificationProcessCreditCardDefault.html provides a full detail of the data set. We have consolidated the information given into a table with a few more descripitive pieces below: \n",
    "\n",
    "\n",
    "Attribute\t\t\tData Type\t\t\tScale\t\t\t\t     Description\n",
    "ID\t\t\t        Nominal\t     \t\t1 - 30,000\t\t\t\tUnique identifier for every client in the dataset\n",
    "\t\t\t\t\t\t\t\t\t\t\n",
    "LIMIT_BAL\t\t\tCurrency\t\t\t$10,000 - $1,000,000\tCredit card limit per month in New Taiwan dollars \n",
    "                                                                NOTE: 1 NT dollar = 0.032 USD\n",
    "\t\t\t\t\t\t\t\t\t\t\n",
    "EDUCATION\t\t\tNominal\t\t\t    1 - 6\t\t\t        Education Level\n",
    "                                                                1 = Grad School\n",
    "                                                                2 = Undergrad \n",
    "                                                                3 = High Schoool\n",
    "                                                                4 = Other\n",
    "                                                                5, 6 = Unknown\n",
    "\t\t\t\t\t\t\t\t\t\t\n",
    "MARRIAGE\t\t\tNominal\t\t\t    1 - 3\t\t\t\t    Marriage Status\n",
    "                                                                1 = Married\n",
    "                                                                2 = Single\n",
    "                                                                3 = Other\n",
    "\t\t\t\t\t\t\t\t\t\t\n",
    "Age\t\t\t        Nominal\t\t     \t21 - 79 \t\t\t\tAge in years\n",
    "\t\t\t\t\t\t\t\t\t\t\n",
    "PAY_0\t\t\t    Nominal\t\t\t    -2 - 9 \t\t\t     \tRepayment status in September 2005 (PAY_0) \n",
    "PAY_2\t\t\t\t\t\t\t\t\t\t                    August 2005 (PAY_2)\n",
    "PAY_3\t\t\t\t\t\t\t\t\t\t                    July 2005 (PAY_3)\n",
    "PAY_4\t\t\t\t\t\t\t\t\t\t                    June 2005 (PAY_4)\n",
    "PAY_5\t\t\t\t\t\t\t\t\t\t                    May 2005 (PAY_5)\n",
    "PAY_6\t\t\t\t\t\t\t\t\t\t                    April 2005 (PAY_6) \n",
    "\t\t\t\t\t\t\t\t\t\t\n",
    "\t\t\t\t\t\t\t\t\t\t\n",
    "BILL_AMT1\t\t\tCurrency \t    $-339,603 - $1,664,089\t    Amount of bill statement in September 2005 (BILL_AMT1)\n",
    "BILL_AMT2\t\t\t\t\t\t\t\t\t\t                Amount of bill statement in August 2005 (BILL_AMT2)\n",
    "BILL_AMT3\t\t\t\t\t\t\t\t\t\t                Amount of bill statement in July 2005 (BILL_AMT3)\n",
    "BILL_AMT4\t\t\t\t\t\t\t\t\t\t                Amount of bill statement in June 2005 (BILL_AMT4)\n",
    "BILL_AMT5\t\t\t\t\t\t\t\t\t\t                Amount of bill statement in May 2005 (BILL_AMT5)\n",
    "BILL_AMT6\t\t\t\t\t\t\t\t\t\t                Amount of bill statement in April 2005 (BILL_AMT6)\n",
    "\t\t\t\t\t\t\t\t\t\t                        NOTE: Bill in NT dollars\n",
    "\t\t\t\t\t\t\t\t\t\t\n",
    "PAY_AMT1\t\t\tCurrency\t\t$0 - $ 1,664,089\t\t    Amount of payment in September 2005 (PAY_AMT1)\n",
    "PAY_AMT2\t\t\t\t\t\t\t\t\t\t                Amount of payment in August 2005 (PAY_AMT2)\n",
    "PAY_AMT3\t\t\t\t\t\t\t\t\t\t                Amount of payment in July 2005 (PAY_AMT3)\n",
    "PAY_AMT4\t\t\t\t\t\t\t\t\t\t                Amount of payment in June 2005 (PAY_AMT4)\n",
    "PAY_AMT5\t\t\t\t\t\t\t\t\t\t                Amount of payment in May 2005 (PAY_AMT5)\n",
    "PAY_AMT6\t\t\t\t\t\t\t\t\t\t                Amount of payment in April 2005 (PAY_AMT6)\n",
    "                                                                NOTE: Payment in NT dollars\n",
    "\t\t\t\t\t\t\t\t\t\t\n",
    "default.payment.next.month  Binary\t\t\t0 -1\t\t\t\t0 = did not default on payment\n",
    "\t\t\t\t\t\t\t\t\t\t                        1 = defaulted on payment\n"
   ]
  },
  {
   "cell_type": "raw",
   "metadata": {},
   "source": []
  },
  {
   "cell_type": "code",
   "execution_count": null,
   "metadata": {},
   "outputs": [],
   "source": []
  }
 ],
 "metadata": {
  "kernelspec": {
   "display_name": "Python 3",
   "language": "python",
   "name": "python3"
  },
  "language_info": {
   "codemirror_mode": {
    "name": "ipython",
    "version": 3
   },
   "file_extension": ".py",
   "mimetype": "text/x-python",
   "name": "python",
   "nbconvert_exporter": "python",
   "pygments_lexer": "ipython3",
   "version": "3.7.3"
  }
 },
 "nbformat": 4,
 "nbformat_minor": 2
}
